{
 "cells": [
  {
   "cell_type": "markdown",
   "metadata": {},
   "source": [
    "# Unit 5 - Financial Planning\n"
   ]
  },
  {
   "cell_type": "code",
   "execution_count": 1,
   "metadata": {},
   "outputs": [],
   "source": [
    "# Initial imports\n",
    "import os\n",
    "import requests\n",
    "import pandas as pd\n",
    "from dotenv import load_dotenv\n",
    "import alpaca_trade_api as tradeapi\n",
    "from MCForecastTools import MCSimulation\n",
    "import datetime as dt\n",
    "import pytz\n",
    "\n",
    "%matplotlib inline"
   ]
  },
  {
   "cell_type": "code",
   "execution_count": 2,
   "metadata": {},
   "outputs": [
    {
     "data": {
      "text/plain": [
       "True"
      ]
     },
     "execution_count": 2,
     "metadata": {},
     "output_type": "execute_result"
    }
   ],
   "source": [
    "# Load .env enviroment variables\n",
    "load_dotenv('example.env')"
   ]
  },
  {
   "cell_type": "markdown",
   "metadata": {},
   "source": [
    "## Part 1 - Personal Finance Planner"
   ]
  },
  {
   "cell_type": "code",
   "execution_count": 3,
   "metadata": {},
   "outputs": [],
   "source": [
    "## Part 1 - Instructions\n",
    "#In this section of the challenge, you will create a personal finance planner application. To develop the personal finance planner prototype, you should take into account the following assumptions:\n",
    "\n",
    "#* The average household income for each member of the credit union is $12,000.\n",
    "\n",
    "#* Every union member has a savings portfolio composed of cryptocurrencies, stocks and bonds:\n",
    "\n",
    "#    * Assume the following amount of crypto assets: `1.2` BTC and `5.3` ETH.\n",
    "\n",
    "#    * Assume the following amount of shares in stocks and bonds: `50` SPY (stocks) and `200` AGG (bonds).\n",
    "\n",
    "#Use the starter Jupyter notebook to complete the following steps.\n",
    "\n",
    "#### Collect Crypto Prices Using the `requests` Library\n",
    "\n",
    "#1. Create two variables called `my_btc` and `my_eth`. Set them equal to `1.2` and `5.3`, respectively.\n",
    "\n",
    "#2. Use the `requests` library to fetch the current price in US dollars of bitcoin (`BTC`) and ethereum (`ETH`) using the **Alternative Free Crypto API** endpoints provided in the starter notebook.\n",
    "\n",
    "#3. Parse the API JSON response to select only the crypto prices and store each price in a variable.\n",
    "\n",
    "#    **Hint:** Be aware of the particular identifier for each cryptocurrency in the API JSON response - the bitcoin identifier is `1` whereas ethereum is `1027`.\n",
    "\n",
    "#4. Compute the portfolio value of cryptocurrencies and print the results."
   ]
  },
  {
   "cell_type": "markdown",
   "metadata": {},
   "source": [
    "### Collect Crypto Prices Using the `requests` Library"
   ]
  },
  {
   "cell_type": "code",
   "execution_count": 4,
   "metadata": {},
   "outputs": [],
   "source": [
    "# Set current amount of crypto assets\n",
    "my_btc = 1.2\n",
    "my_eth = 5.3"
   ]
  },
  {
   "cell_type": "code",
   "execution_count": 5,
   "metadata": {},
   "outputs": [],
   "source": [
    "# Crypto API URLs\n",
    "btc_url = \"https://api.alternative.me/v2/ticker/Bitcoin/?convert=CAD\"\n",
    "eth_url = \"https://api.alternative.me/v2/ticker/Ethereum/?convert=CAD\""
   ]
  },
  {
   "cell_type": "code",
   "execution_count": 6,
   "metadata": {},
   "outputs": [
    {
     "name": "stdout",
     "output_type": "stream",
     "text": [
      "The current value of your 1.2 BTC is $38336.40\n",
      "The current value of your 5.3 ETH is $6413.16\n"
     ]
    }
   ],
   "source": [
    "# Fetch current BTC price\n",
    "btc_response=requests.get(btc_url)\n",
    "eth_response=requests.get(eth_url)\n",
    "\n",
    "# Fetch current ETH price\n",
    "current_btc_price = float(btc_response.json()[\"data\"][\"1\"][\"quotes\"][\"USD\"][\"price\"])\n",
    "current_eth_price = float(eth_response.json()[\"data\"][\"1027\"][\"quotes\"][\"USD\"][\"price\"])\n",
    "\n",
    "# Compute current value of my crpto\n",
    "my_btc_value = current_btc_price * my_btc\n",
    "my_eth_value = current_eth_price * my_eth\n",
    "\n",
    "# Print current crypto wallet balance\n",
    "print(f\"The current value of your {my_btc} BTC is ${my_btc_value:0.2f}\")\n",
    "print(f\"The current value of your {my_eth} ETH is ${my_eth_value:0.2f}\")"
   ]
  },
  {
   "cell_type": "markdown",
   "metadata": {},
   "source": [
    "### Collect Investments Data Using Alpaca: `SPY` (stocks) and `AGG` (bonds)"
   ]
  },
  {
   "cell_type": "code",
   "execution_count": 7,
   "metadata": {},
   "outputs": [],
   "source": [
    "#### Collect Investments Data Using Alpaca: `SPY` (stocks) and `AGG` (bonds)\n",
    "\n",
    "#**Important:** Remember to create a `.env` file in your working directory to store the values of your Alpaca API key and Alpaca secret key.\n",
    "\n",
    "#1. Create two variables named `my_agg` and `my_spy` and set them equal to `200` and `50`, respectively.\n",
    "\n",
    "#2. Set the Alpaca API key and secret key variables, then create the Alpaca API object using the `tradeapi.REST` function from the Alpaca SDK.\n",
    "\n",
    "#3. Format the current date as ISO format. You may change the date set in the starter code to the current date.\n",
    "\n",
    "#4. Get the current closing prices for `SPY` and `AGG` using Alpaca's `get_barset()` function. Transform the function's response to a Pandas DataFrame and preview the data.\n",
    "\n",
    "#5. Pick the `SPY` and `AGG` close prices from the Alpaca's `get_barset()` DataFrame response and store them as Python variables. Print the closing values for validation.\n",
    "\n",
    "#6. Compute the value in dollars of the current amount of shares and print the results."
   ]
  },
  {
   "cell_type": "code",
   "execution_count": 8,
   "metadata": {},
   "outputs": [],
   "source": [
    "# Current amount of shares\n",
    "my_agg = 200\n",
    "my_spy = 50"
   ]
  },
  {
   "cell_type": "code",
   "execution_count": 9,
   "metadata": {},
   "outputs": [
    {
     "data": {
      "text/plain": [
       "'PK3SWEUL4DIYM0SG8DQ3'"
      ]
     },
     "execution_count": 9,
     "metadata": {},
     "output_type": "execute_result"
    }
   ],
   "source": [
    "# Set Alpaca API key and secret\n",
    "alpaca_api_key = os.getenv(\"ALPACA_API_KEY\")\n",
    "alpaca_api_key"
   ]
  },
  {
   "cell_type": "code",
   "execution_count": 10,
   "metadata": {},
   "outputs": [
    {
     "data": {
      "text/plain": [
       "'BQgCzY1szuHc9ctPaWKABsA42DkbeScO0JyQgpM8'"
      ]
     },
     "execution_count": 10,
     "metadata": {},
     "output_type": "execute_result"
    }
   ],
   "source": [
    "# Set Alpaca API key and secret\n",
    "alpaca_secret_key = os.getenv(\"ALPACA_SECRET_KEY\")\n",
    "alpaca_secret_key"
   ]
  },
  {
   "cell_type": "code",
   "execution_count": 11,
   "metadata": {},
   "outputs": [],
   "source": [
    "# Create the Alpaca API object\n",
    "alpaca_api = tradeapi.REST(\n",
    "    alpaca_api_key,\n",
    "    alpaca_secret_key,\n",
    "    base_url = 'https://paper-api.alpaca.markets'\n",
    ")"
   ]
  },
  {
   "cell_type": "code",
   "execution_count": 12,
   "metadata": {},
   "outputs": [],
   "source": [
    "# Format current date as ISO format\n",
    "today = pd.Timestamp.today(tz=\"America/New_York\").isoformat()"
   ]
  },
  {
   "cell_type": "code",
   "execution_count": 13,
   "metadata": {},
   "outputs": [],
   "source": [
    "# Set the tickers\n",
    "tickers = [\"AGG\", \"SPY\"]\n",
    "tickers\n",
    "\n",
    "# Set timeframe to '1D' for Alpaca API\n",
    "timeframe = \"1D\""
   ]
  },
  {
   "cell_type": "code",
   "execution_count": 14,
   "metadata": {},
   "outputs": [
    {
     "data": {
      "text/html": [
       "<div>\n",
       "<style scoped>\n",
       "    .dataframe tbody tr th:only-of-type {\n",
       "        vertical-align: middle;\n",
       "    }\n",
       "\n",
       "    .dataframe tbody tr th {\n",
       "        vertical-align: top;\n",
       "    }\n",
       "\n",
       "    .dataframe thead tr th {\n",
       "        text-align: left;\n",
       "    }\n",
       "\n",
       "    .dataframe thead tr:last-of-type th {\n",
       "        text-align: right;\n",
       "    }\n",
       "</style>\n",
       "<table border=\"1\" class=\"dataframe\">\n",
       "  <thead>\n",
       "    <tr>\n",
       "      <th></th>\n",
       "      <th colspan=\"5\" halign=\"left\">AGG</th>\n",
       "      <th colspan=\"5\" halign=\"left\">SPY</th>\n",
       "    </tr>\n",
       "    <tr>\n",
       "      <th></th>\n",
       "      <th>open</th>\n",
       "      <th>high</th>\n",
       "      <th>low</th>\n",
       "      <th>close</th>\n",
       "      <th>volume</th>\n",
       "      <th>open</th>\n",
       "      <th>high</th>\n",
       "      <th>low</th>\n",
       "      <th>close</th>\n",
       "      <th>volume</th>\n",
       "    </tr>\n",
       "    <tr>\n",
       "      <th>time</th>\n",
       "      <th></th>\n",
       "      <th></th>\n",
       "      <th></th>\n",
       "      <th></th>\n",
       "      <th></th>\n",
       "      <th></th>\n",
       "      <th></th>\n",
       "      <th></th>\n",
       "      <th></th>\n",
       "      <th></th>\n",
       "    </tr>\n",
       "  </thead>\n",
       "  <tbody>\n",
       "    <tr>\n",
       "      <th>2021-01-21 00:00:00-05:00</th>\n",
       "      <td>117.22</td>\n",
       "      <td>117.2985</td>\n",
       "      <td>117.14</td>\n",
       "      <td>117.26</td>\n",
       "      <td>5801029</td>\n",
       "      <td>384.49</td>\n",
       "      <td>384.95</td>\n",
       "      <td>383.25</td>\n",
       "      <td>384.2</td>\n",
       "      <td>41800991</td>\n",
       "    </tr>\n",
       "  </tbody>\n",
       "</table>\n",
       "</div>"
      ],
      "text/plain": [
       "                              AGG                                        SPY  \\\n",
       "                             open      high     low   close   volume    open   \n",
       "time                                                                           \n",
       "2021-01-21 00:00:00-05:00  117.22  117.2985  117.14  117.26  5801029  384.49   \n",
       "\n",
       "                                                            \n",
       "                             high     low  close    volume  \n",
       "time                                                        \n",
       "2021-01-21 00:00:00-05:00  384.95  383.25  384.2  41800991  "
      ]
     },
     "execution_count": 14,
     "metadata": {},
     "output_type": "execute_result"
    }
   ],
   "source": [
    "# Get current closing prices for SPY and AGG\n",
    "df_portfolio = alpaca_api.get_barset(\n",
    "    tickers,\n",
    "    timeframe,\n",
    "    start = today,\n",
    "    end = today\n",
    ").df\n",
    "\n",
    "\n",
    "# Preview DataFrame\n",
    "df_portfolio.head(1)"
   ]
  },
  {
   "cell_type": "code",
   "execution_count": 15,
   "metadata": {},
   "outputs": [
    {
     "name": "stdout",
     "output_type": "stream",
     "text": [
      "Current AGG closing price: $117.26\n",
      "Current SPY closing price: $384.20\n"
     ]
    }
   ],
   "source": [
    "# Pick AGG and SPY close prices\n",
    "df_closing_prices = pd.DataFrame()\n",
    "agg_close_price = df_portfolio[\"AGG\"][\"close\"].item()\n",
    "spy_close_price = df_portfolio[\"SPY\"][\"close\"].item()\n",
    "\n",
    "# Print AGG and SPY close prices\n",
    "print(f\"Current AGG closing price: ${agg_close_price:0.2f}\")\n",
    "print(f\"Current SPY closing price: ${spy_close_price:0.2f}\")"
   ]
  },
  {
   "cell_type": "code",
   "execution_count": 16,
   "metadata": {},
   "outputs": [
    {
     "data": {
      "text/plain": [
       "19210.0"
      ]
     },
     "execution_count": 16,
     "metadata": {},
     "output_type": "execute_result"
    }
   ],
   "source": [
    "# Compute the current value of shares\n",
    "my_spy_value = spy_close_price * my_spy\n",
    "my_spy_value"
   ]
  },
  {
   "cell_type": "code",
   "execution_count": 17,
   "metadata": {},
   "outputs": [
    {
     "data": {
      "text/plain": [
       "23452.0"
      ]
     },
     "execution_count": 17,
     "metadata": {},
     "output_type": "execute_result"
    }
   ],
   "source": [
    "# Compute the current value of shares\n",
    "my_agg_value = agg_close_price * my_agg\n",
    "my_agg_value"
   ]
  },
  {
   "cell_type": "code",
   "execution_count": 18,
   "metadata": {},
   "outputs": [
    {
     "name": "stdout",
     "output_type": "stream",
     "text": [
      "The current value of your 50 SPY shares is $19210.00\n",
      "The current value of your 200 AGG shares is $23452.00\n"
     ]
    }
   ],
   "source": [
    "# Compute the current value of shares\n",
    "my_spy_value = spy_close_price * my_spy\n",
    "my_agg_value = agg_close_price * my_agg\n",
    "\n",
    "# Print current value of share\n",
    "print(f\"The current value of your {my_spy} SPY shares is ${my_spy_value:0.2f}\")\n",
    "print(f\"The current value of your {my_agg} AGG shares is ${my_agg_value:0.2f}\")"
   ]
  },
  {
   "cell_type": "markdown",
   "metadata": {},
   "source": [
    "### Savings Health Analysis"
   ]
  },
  {
   "cell_type": "code",
   "execution_count": 19,
   "metadata": {},
   "outputs": [],
   "source": [
    "#### Savings Health Analysis\n",
    "\n",
    "#In this section, you will assess the financial health of the credit union's members.\n",
    "\n",
    "#1. Create a variable called `monthly_income` and set its value to `12000`.\n",
    "\n",
    "#2. To analyze savings health, create a DataFrame called `df_savings` with two rows. Store the total value in dollars of the crypto assets in the first row and the total value of the shares in the second row.\n",
    "\n",
    "#    **Hint:** The `df_savings` DataFrame should have one column named `amount` and two rows where `crypto` and `shares` are the index values: \n",
    "    \n",
    "#    ![df_savings](Images/df_savings.png)\n",
    "\n",
    "#3. Use the `df_savings` DataFrame to plot a pie chart to visualize the composition of personal savings.\n",
    "\n",
    "#4. Use `if` conditional statements to validate if the current savings are enough for an emergency fund. An ideal emergency fund should be equal to three times your monthly income.\n",
    "\n",
    "#    * If total savings are greater than the emergency fund, display a message congratulating the person for having enough money in this fund.\n",
    "\n",
    "#    * If total savings are equal to the emergency fund, display a message congratulating the person on reaching this financial goal.\n",
    "\n",
    "#    * If total savings are less than the emergency fund, display a message showing how many dollars away the person is from reaching the goal."
   ]
  },
  {
   "cell_type": "code",
   "execution_count": 20,
   "metadata": {},
   "outputs": [],
   "source": [
    "# Set monthly household income and asset values\n",
    "monthly_income = 12000\n",
    "combined_crypto_assets = my_btc_value+my_eth_value\n",
    "combined_share_value = my_spy_value+my_agg_value"
   ]
  },
  {
   "cell_type": "code",
   "execution_count": 21,
   "metadata": {},
   "outputs": [
    {
     "data": {
      "text/html": [
       "<div>\n",
       "<style scoped>\n",
       "    .dataframe tbody tr th:only-of-type {\n",
       "        vertical-align: middle;\n",
       "    }\n",
       "\n",
       "    .dataframe tbody tr th {\n",
       "        vertical-align: top;\n",
       "    }\n",
       "\n",
       "    .dataframe thead th {\n",
       "        text-align: right;\n",
       "    }\n",
       "</style>\n",
       "<table border=\"1\" class=\"dataframe\">\n",
       "  <thead>\n",
       "    <tr style=\"text-align: right;\">\n",
       "      <th></th>\n",
       "      <th>amount</th>\n",
       "    </tr>\n",
       "  </thead>\n",
       "  <tbody>\n",
       "    <tr>\n",
       "      <th>crypto</th>\n",
       "      <td>44749.559</td>\n",
       "    </tr>\n",
       "    <tr>\n",
       "      <th>shares</th>\n",
       "      <td>42662.000</td>\n",
       "    </tr>\n",
       "  </tbody>\n",
       "</table>\n",
       "</div>"
      ],
      "text/plain": [
       "           amount\n",
       "crypto  44749.559\n",
       "shares  42662.000"
      ]
     },
     "metadata": {},
     "output_type": "display_data"
    }
   ],
   "source": [
    "# Create savings DataFrame\n",
    "amount_column = {'amount': [combined_crypto_assets, combined_share_value]}\n",
    "df_savings = pd.DataFrame(data=amount_column,index=['crypto','shares'])\n",
    "\n",
    "# Display savings DataFrame\n",
    "display(df_savings)"
   ]
  },
  {
   "cell_type": "code",
   "execution_count": 22,
   "metadata": {},
   "outputs": [
    {
     "data": {
      "text/plain": [
       "<AxesSubplot:ylabel='amount'>"
      ]
     },
     "execution_count": 22,
     "metadata": {},
     "output_type": "execute_result"
    },
    {
     "data": {
      "image/png": "[encoded data removed]",
      "text/plain": [
       "<Figure size 432x288 with 1 Axes>"
      ]
     },
     "metadata": {},
     "output_type": "display_data"
    }
   ],
   "source": [
    "# Plot savings pie chart\n",
    "df_savings.plot(kind='pie', y='amount')"
   ]
  },
  {
   "cell_type": "code",
   "execution_count": 23,
   "metadata": {},
   "outputs": [
    {
     "name": "stdout",
     "output_type": "stream",
     "text": [
      "Congratulations for having enough money in savings fund\n"
     ]
    }
   ],
   "source": [
    "# Set ideal emergency fund\n",
    "emergency_fund = monthly_income * 3\n",
    "\n",
    "# Calculate total amount of savings\n",
    "total_savings = df_savings.sum().item()\n",
    "\n",
    "# Validate saving health\n",
    "if total_savings > emergency_fund:\n",
    "    print('Congratulations for having enough money in savings fund')\n",
    "elif total_savings == emergency_fund:\n",
    "    print('Congratulations on reaching emergency fund financial goal')\n",
    "else:\n",
    "    print(f'you still need {emergency_fund - total_savings } to reach your financial goal')"
   ]
  },
  {
   "cell_type": "markdown",
   "metadata": {},
   "source": [
    "## Part 2 - Retirement Planning\n",
    "\n",
    "### Monte Carlo Simulation"
   ]
  },
  {
   "cell_type": "code",
   "execution_count": 24,
   "metadata": {},
   "outputs": [],
   "source": [
    "#### Monte Carlo Simulation\n",
    "\n",
    "#1. Use the Alpaca API to fetch five years historical closing prices for a traditional `40/60` portfolio using the `SPY` and `AGG` tickers to represent the `60%` stocks (`SPY`) and `40%` bonds (`AGG`) composition of the portfolio. Make sure to convert the API output to a DataFrame and preview the output.\n",
    "\n",
    "#2. Configure and execute a Monte Carlo Simulation of `500` runs and `30` years for the `40/60` portfolio.\n",
    "\n",
    "#3. Plot the simulation results and the probability distribution/confidence intervals.\n",
    "\n",
    "#    ![monte carlo](Images/monte-carlo.png)\n",
    "        \n",
    "#    ![histogram](Images/histogram.png)"
   ]
  },
  {
   "cell_type": "code",
   "execution_count": 25,
   "metadata": {},
   "outputs": [
    {
     "data": {
      "text/plain": [
       "datetime.datetime(2021, 1, 21, 16, 9, 46, 172774)"
      ]
     },
     "execution_count": 25,
     "metadata": {},
     "output_type": "execute_result"
    }
   ],
   "source": [
    "# Set start and end dates of five years back from today.\n",
    "# Sample results may vary from the solution based on the time frame chosen\n",
    "end_date = dt.datetime.now()\n",
    "end_date"
   ]
  },
  {
   "cell_type": "code",
   "execution_count": 26,
   "metadata": {},
   "outputs": [
    {
     "data": {
      "text/plain": [
       "datetime.datetime(2016, 1, 23, 16, 9, 46, 172774)"
      ]
     },
     "execution_count": 26,
     "metadata": {},
     "output_type": "execute_result"
    }
   ],
   "source": [
    "# Set start and end dates of five years back from today.\n",
    "# Sample results may vary from the solution based on the time frame chosen\n",
    "start_date = end_date - dt.timedelta(days=5*365)\n",
    "start_date"
   ]
  },
  {
   "cell_type": "code",
   "execution_count": 27,
   "metadata": {},
   "outputs": [
    {
     "data": {
      "text/html": [
       "<div>\n",
       "<style scoped>\n",
       "    .dataframe tbody tr th:only-of-type {\n",
       "        vertical-align: middle;\n",
       "    }\n",
       "\n",
       "    .dataframe tbody tr th {\n",
       "        vertical-align: top;\n",
       "    }\n",
       "\n",
       "    .dataframe thead tr th {\n",
       "        text-align: left;\n",
       "    }\n",
       "\n",
       "    .dataframe thead tr:last-of-type th {\n",
       "        text-align: right;\n",
       "    }\n",
       "</style>\n",
       "<table border=\"1\" class=\"dataframe\">\n",
       "  <thead>\n",
       "    <tr>\n",
       "      <th></th>\n",
       "      <th colspan=\"5\" halign=\"left\">AGG</th>\n",
       "      <th colspan=\"5\" halign=\"left\">SPY</th>\n",
       "    </tr>\n",
       "    <tr>\n",
       "      <th></th>\n",
       "      <th>open</th>\n",
       "      <th>high</th>\n",
       "      <th>low</th>\n",
       "      <th>close</th>\n",
       "      <th>volume</th>\n",
       "      <th>open</th>\n",
       "      <th>high</th>\n",
       "      <th>low</th>\n",
       "      <th>close</th>\n",
       "      <th>volume</th>\n",
       "    </tr>\n",
       "    <tr>\n",
       "      <th>time</th>\n",
       "      <th></th>\n",
       "      <th></th>\n",
       "      <th></th>\n",
       "      <th></th>\n",
       "      <th></th>\n",
       "      <th></th>\n",
       "      <th></th>\n",
       "      <th></th>\n",
       "      <th></th>\n",
       "      <th></th>\n",
       "    </tr>\n",
       "  </thead>\n",
       "  <tbody>\n",
       "    <tr>\n",
       "      <th>2020-08-28 00:00:00-04:00</th>\n",
       "      <td>118.08</td>\n",
       "      <td>118.16</td>\n",
       "      <td>117.99</td>\n",
       "      <td>118.12</td>\n",
       "      <td>10432920</td>\n",
       "      <td>349.44</td>\n",
       "      <td>350.72</td>\n",
       "      <td>348.15</td>\n",
       "      <td>350.54</td>\n",
       "      <td>84525436</td>\n",
       "    </tr>\n",
       "    <tr>\n",
       "      <th>2020-08-31 00:00:00-04:00</th>\n",
       "      <td>118.14</td>\n",
       "      <td>118.51</td>\n",
       "      <td>118.14</td>\n",
       "      <td>118.37</td>\n",
       "      <td>14652086</td>\n",
       "      <td>350.35</td>\n",
       "      <td>351.30</td>\n",
       "      <td>349.09</td>\n",
       "      <td>349.34</td>\n",
       "      <td>103053041</td>\n",
       "    </tr>\n",
       "    <tr>\n",
       "      <th>2020-09-01 00:00:00-04:00</th>\n",
       "      <td>118.12</td>\n",
       "      <td>118.44</td>\n",
       "      <td>118.00</td>\n",
       "      <td>118.43</td>\n",
       "      <td>18834492</td>\n",
       "      <td>350.21</td>\n",
       "      <td>352.69</td>\n",
       "      <td>349.24</td>\n",
       "      <td>352.56</td>\n",
       "      <td>92440865</td>\n",
       "    </tr>\n",
       "    <tr>\n",
       "      <th>2020-09-02 00:00:00-04:00</th>\n",
       "      <td>118.42</td>\n",
       "      <td>118.71</td>\n",
       "      <td>118.34</td>\n",
       "      <td>118.66</td>\n",
       "      <td>8565963</td>\n",
       "      <td>354.67</td>\n",
       "      <td>358.75</td>\n",
       "      <td>353.43</td>\n",
       "      <td>357.68</td>\n",
       "      <td>125347727</td>\n",
       "    </tr>\n",
       "    <tr>\n",
       "      <th>2020-09-03 00:00:00-04:00</th>\n",
       "      <td>118.73</td>\n",
       "      <td>118.87</td>\n",
       "      <td>118.62</td>\n",
       "      <td>118.69</td>\n",
       "      <td>11833793</td>\n",
       "      <td>355.87</td>\n",
       "      <td>356.38</td>\n",
       "      <td>342.59</td>\n",
       "      <td>345.41</td>\n",
       "      <td>254965602</td>\n",
       "    </tr>\n",
       "  </tbody>\n",
       "</table>\n",
       "</div>"
      ],
      "text/plain": [
       "                              AGG                                       SPY  \\\n",
       "                             open    high     low   close    volume    open   \n",
       "time                                                                          \n",
       "2020-08-28 00:00:00-04:00  118.08  118.16  117.99  118.12  10432920  349.44   \n",
       "2020-08-31 00:00:00-04:00  118.14  118.51  118.14  118.37  14652086  350.35   \n",
       "2020-09-01 00:00:00-04:00  118.12  118.44  118.00  118.43  18834492  350.21   \n",
       "2020-09-02 00:00:00-04:00  118.42  118.71  118.34  118.66   8565963  354.67   \n",
       "2020-09-03 00:00:00-04:00  118.73  118.87  118.62  118.69  11833793  355.87   \n",
       "\n",
       "                                                              \n",
       "                             high     low   close     volume  \n",
       "time                                                          \n",
       "2020-08-28 00:00:00-04:00  350.72  348.15  350.54   84525436  \n",
       "2020-08-31 00:00:00-04:00  351.30  349.09  349.34  103053041  \n",
       "2020-09-01 00:00:00-04:00  352.69  349.24  352.56   92440865  \n",
       "2020-09-02 00:00:00-04:00  358.75  353.43  357.68  125347727  \n",
       "2020-09-03 00:00:00-04:00  356.38  342.59  345.41  254965602  "
      ]
     },
     "execution_count": 27,
     "metadata": {},
     "output_type": "execute_result"
    }
   ],
   "source": [
    "# Get 5 years' worth of historical data for SPY and AGG\n",
    "df_stock_data = alpaca_api.get_barset(\n",
    "    tickers,\n",
    "    timeframe,\n",
    "    start = start_date,\n",
    "    end = end_date\n",
    ").df\n",
    "\n",
    "# Display sample data\n",
    "df_stock_data.head()"
   ]
  },
  {
   "cell_type": "code",
   "execution_count": 28,
   "metadata": {},
   "outputs": [],
   "source": [
    "# Configuring a Monte Carlo simulation to forecast 30 years cumulative returns\n",
    "MC_30year = MCSimulation(\n",
    "    portfolio_data = df_stock_data,\n",
    "    weights = [.40,.60],\n",
    "    num_simulation = 500,\n",
    "    num_trading_days = 252*30\n",
    ")"
   ]
  },
  {
   "cell_type": "code",
   "execution_count": 29,
   "metadata": {},
   "outputs": [
    {
     "data": {
      "text/html": [
       "<div>\n",
       "<style scoped>\n",
       "    .dataframe tbody tr th:only-of-type {\n",
       "        vertical-align: middle;\n",
       "    }\n",
       "\n",
       "    .dataframe tbody tr th {\n",
       "        vertical-align: top;\n",
       "    }\n",
       "\n",
       "    .dataframe thead tr th {\n",
       "        text-align: left;\n",
       "    }\n",
       "\n",
       "    .dataframe thead tr:last-of-type th {\n",
       "        text-align: right;\n",
       "    }\n",
       "</style>\n",
       "<table border=\"1\" class=\"dataframe\">\n",
       "  <thead>\n",
       "    <tr>\n",
       "      <th></th>\n",
       "      <th colspan=\"6\" halign=\"left\">AGG</th>\n",
       "      <th colspan=\"6\" halign=\"left\">SPY</th>\n",
       "    </tr>\n",
       "    <tr>\n",
       "      <th></th>\n",
       "      <th>open</th>\n",
       "      <th>high</th>\n",
       "      <th>low</th>\n",
       "      <th>close</th>\n",
       "      <th>volume</th>\n",
       "      <th>daily_return</th>\n",
       "      <th>open</th>\n",
       "      <th>high</th>\n",
       "      <th>low</th>\n",
       "      <th>close</th>\n",
       "      <th>volume</th>\n",
       "      <th>daily_return</th>\n",
       "    </tr>\n",
       "    <tr>\n",
       "      <th>time</th>\n",
       "      <th></th>\n",
       "      <th></th>\n",
       "      <th></th>\n",
       "      <th></th>\n",
       "      <th></th>\n",
       "      <th></th>\n",
       "      <th></th>\n",
       "      <th></th>\n",
       "      <th></th>\n",
       "      <th></th>\n",
       "      <th></th>\n",
       "      <th></th>\n",
       "    </tr>\n",
       "  </thead>\n",
       "  <tbody>\n",
       "    <tr>\n",
       "      <th>2020-08-28 00:00:00-04:00</th>\n",
       "      <td>118.08</td>\n",
       "      <td>118.16</td>\n",
       "      <td>117.99</td>\n",
       "      <td>118.12</td>\n",
       "      <td>10432920</td>\n",
       "      <td>NaN</td>\n",
       "      <td>349.44</td>\n",
       "      <td>350.72</td>\n",
       "      <td>348.15</td>\n",
       "      <td>350.54</td>\n",
       "      <td>84525436</td>\n",
       "      <td>NaN</td>\n",
       "    </tr>\n",
       "    <tr>\n",
       "      <th>2020-08-31 00:00:00-04:00</th>\n",
       "      <td>118.14</td>\n",
       "      <td>118.51</td>\n",
       "      <td>118.14</td>\n",
       "      <td>118.37</td>\n",
       "      <td>14652086</td>\n",
       "      <td>0.002116</td>\n",
       "      <td>350.35</td>\n",
       "      <td>351.30</td>\n",
       "      <td>349.09</td>\n",
       "      <td>349.34</td>\n",
       "      <td>103053041</td>\n",
       "      <td>-0.003423</td>\n",
       "    </tr>\n",
       "    <tr>\n",
       "      <th>2020-09-01 00:00:00-04:00</th>\n",
       "      <td>118.12</td>\n",
       "      <td>118.44</td>\n",
       "      <td>118.00</td>\n",
       "      <td>118.43</td>\n",
       "      <td>18834492</td>\n",
       "      <td>0.000507</td>\n",
       "      <td>350.21</td>\n",
       "      <td>352.69</td>\n",
       "      <td>349.24</td>\n",
       "      <td>352.56</td>\n",
       "      <td>92440865</td>\n",
       "      <td>0.009217</td>\n",
       "    </tr>\n",
       "    <tr>\n",
       "      <th>2020-09-02 00:00:00-04:00</th>\n",
       "      <td>118.42</td>\n",
       "      <td>118.71</td>\n",
       "      <td>118.34</td>\n",
       "      <td>118.66</td>\n",
       "      <td>8565963</td>\n",
       "      <td>0.001942</td>\n",
       "      <td>354.67</td>\n",
       "      <td>358.75</td>\n",
       "      <td>353.43</td>\n",
       "      <td>357.68</td>\n",
       "      <td>125347727</td>\n",
       "      <td>0.014522</td>\n",
       "    </tr>\n",
       "    <tr>\n",
       "      <th>2020-09-03 00:00:00-04:00</th>\n",
       "      <td>118.73</td>\n",
       "      <td>118.87</td>\n",
       "      <td>118.62</td>\n",
       "      <td>118.69</td>\n",
       "      <td>11833793</td>\n",
       "      <td>0.000253</td>\n",
       "      <td>355.87</td>\n",
       "      <td>356.38</td>\n",
       "      <td>342.59</td>\n",
       "      <td>345.41</td>\n",
       "      <td>254965602</td>\n",
       "      <td>-0.034304</td>\n",
       "    </tr>\n",
       "  </tbody>\n",
       "</table>\n",
       "</div>"
      ],
      "text/plain": [
       "                              AGG                                    \\\n",
       "                             open    high     low   close    volume   \n",
       "time                                                                  \n",
       "2020-08-28 00:00:00-04:00  118.08  118.16  117.99  118.12  10432920   \n",
       "2020-08-31 00:00:00-04:00  118.14  118.51  118.14  118.37  14652086   \n",
       "2020-09-01 00:00:00-04:00  118.12  118.44  118.00  118.43  18834492   \n",
       "2020-09-02 00:00:00-04:00  118.42  118.71  118.34  118.66   8565963   \n",
       "2020-09-03 00:00:00-04:00  118.73  118.87  118.62  118.69  11833793   \n",
       "\n",
       "                                           SPY                          \\\n",
       "                          daily_return    open    high     low   close   \n",
       "time                                                                     \n",
       "2020-08-28 00:00:00-04:00          NaN  349.44  350.72  348.15  350.54   \n",
       "2020-08-31 00:00:00-04:00     0.002116  350.35  351.30  349.09  349.34   \n",
       "2020-09-01 00:00:00-04:00     0.000507  350.21  352.69  349.24  352.56   \n",
       "2020-09-02 00:00:00-04:00     0.001942  354.67  358.75  353.43  357.68   \n",
       "2020-09-03 00:00:00-04:00     0.000253  355.87  356.38  342.59  345.41   \n",
       "\n",
       "                                                   \n",
       "                              volume daily_return  \n",
       "time                                               \n",
       "2020-08-28 00:00:00-04:00   84525436          NaN  \n",
       "2020-08-31 00:00:00-04:00  103053041    -0.003423  \n",
       "2020-09-01 00:00:00-04:00   92440865     0.009217  \n",
       "2020-09-02 00:00:00-04:00  125347727     0.014522  \n",
       "2020-09-03 00:00:00-04:00  254965602    -0.034304  "
      ]
     },
     "execution_count": 29,
     "metadata": {},
     "output_type": "execute_result"
    }
   ],
   "source": [
    "# Printing the simulation input data\n",
    "MC_30year.portfolio_data.head()"
   ]
  },
  {
   "cell_type": "code",
   "execution_count": 30,
   "metadata": {},
   "outputs": [
    {
     "name": "stdout",
     "output_type": "stream",
     "text": [
      "Running Monte Carlo simulation number 0.\n",
      "Running Monte Carlo simulation number 10.\n",
      "Running Monte Carlo simulation number 20.\n",
      "Running Monte Carlo simulation number 30.\n",
      "Running Monte Carlo simulation number 40.\n",
      "Running Monte Carlo simulation number 50.\n",
      "Running Monte Carlo simulation number 60.\n",
      "Running Monte Carlo simulation number 70.\n",
      "Running Monte Carlo simulation number 80.\n",
      "Running Monte Carlo simulation number 90.\n",
      "Running Monte Carlo simulation number 100.\n",
      "Running Monte Carlo simulation number 110.\n",
      "Running Monte Carlo simulation number 120.\n",
      "Running Monte Carlo simulation number 130.\n",
      "Running Monte Carlo simulation number 140.\n",
      "Running Monte Carlo simulation number 150.\n",
      "Running Monte Carlo simulation number 160.\n",
      "Running Monte Carlo simulation number 170.\n",
      "Running Monte Carlo simulation number 180.\n",
      "Running Monte Carlo simulation number 190.\n",
      "Running Monte Carlo simulation number 200.\n",
      "Running Monte Carlo simulation number 210.\n",
      "Running Monte Carlo simulation number 220.\n",
      "Running Monte Carlo simulation number 230.\n",
      "Running Monte Carlo simulation number 240.\n",
      "Running Monte Carlo simulation number 250.\n",
      "Running Monte Carlo simulation number 260.\n",
      "Running Monte Carlo simulation number 270.\n",
      "Running Monte Carlo simulation number 280.\n",
      "Running Monte Carlo simulation number 290.\n",
      "Running Monte Carlo simulation number 300.\n",
      "Running Monte Carlo simulation number 310.\n",
      "Running Monte Carlo simulation number 320.\n",
      "Running Monte Carlo simulation number 330.\n",
      "Running Monte Carlo simulation number 340.\n",
      "Running Monte Carlo simulation number 350.\n",
      "Running Monte Carlo simulation number 360.\n",
      "Running Monte Carlo simulation number 370.\n",
      "Running Monte Carlo simulation number 380.\n",
      "Running Monte Carlo simulation number 390.\n",
      "Running Monte Carlo simulation number 400.\n",
      "Running Monte Carlo simulation number 410.\n",
      "Running Monte Carlo simulation number 420.\n",
      "Running Monte Carlo simulation number 430.\n",
      "Running Monte Carlo simulation number 440.\n",
      "Running Monte Carlo simulation number 450.\n",
      "Running Monte Carlo simulation number 460.\n",
      "Running Monte Carlo simulation number 470.\n",
      "Running Monte Carlo simulation number 480.\n",
      "Running Monte Carlo simulation number 490.\n"
     ]
    },
    {
     "data": {
      "text/html": [
       "<div>\n",
       "<style scoped>\n",
       "    .dataframe tbody tr th:only-of-type {\n",
       "        vertical-align: middle;\n",
       "    }\n",
       "\n",
       "    .dataframe tbody tr th {\n",
       "        vertical-align: top;\n",
       "    }\n",
       "\n",
       "    .dataframe thead th {\n",
       "        text-align: right;\n",
       "    }\n",
       "</style>\n",
       "<table border=\"1\" class=\"dataframe\">\n",
       "  <thead>\n",
       "    <tr style=\"text-align: right;\">\n",
       "      <th></th>\n",
       "      <th>0</th>\n",
       "      <th>1</th>\n",
       "      <th>2</th>\n",
       "      <th>3</th>\n",
       "      <th>4</th>\n",
       "      <th>5</th>\n",
       "      <th>6</th>\n",
       "      <th>7</th>\n",
       "      <th>8</th>\n",
       "      <th>9</th>\n",
       "      <th>...</th>\n",
       "      <th>490</th>\n",
       "      <th>491</th>\n",
       "      <th>492</th>\n",
       "      <th>493</th>\n",
       "      <th>494</th>\n",
       "      <th>495</th>\n",
       "      <th>496</th>\n",
       "      <th>497</th>\n",
       "      <th>498</th>\n",
       "      <th>499</th>\n",
       "    </tr>\n",
       "  </thead>\n",
       "  <tbody>\n",
       "    <tr>\n",
       "      <th>0</th>\n",
       "      <td>1.000000</td>\n",
       "      <td>1.000000</td>\n",
       "      <td>1.000000</td>\n",
       "      <td>1.000000</td>\n",
       "      <td>1.000000</td>\n",
       "      <td>1.000000</td>\n",
       "      <td>1.000000</td>\n",
       "      <td>1.000000</td>\n",
       "      <td>1.000000</td>\n",
       "      <td>1.000000</td>\n",
       "      <td>...</td>\n",
       "      <td>1.000000</td>\n",
       "      <td>1.000000</td>\n",
       "      <td>1.000000</td>\n",
       "      <td>1.000000</td>\n",
       "      <td>1.000000</td>\n",
       "      <td>1.000000</td>\n",
       "      <td>1.000000</td>\n",
       "      <td>1.000000</td>\n",
       "      <td>1.000000</td>\n",
       "      <td>1.000000</td>\n",
       "    </tr>\n",
       "    <tr>\n",
       "      <th>1</th>\n",
       "      <td>1.003009</td>\n",
       "      <td>1.003227</td>\n",
       "      <td>1.013002</td>\n",
       "      <td>0.990709</td>\n",
       "      <td>0.992393</td>\n",
       "      <td>1.000092</td>\n",
       "      <td>0.997554</td>\n",
       "      <td>1.001995</td>\n",
       "      <td>0.998573</td>\n",
       "      <td>1.014702</td>\n",
       "      <td>...</td>\n",
       "      <td>1.012248</td>\n",
       "      <td>1.002707</td>\n",
       "      <td>1.006317</td>\n",
       "      <td>1.002487</td>\n",
       "      <td>1.002985</td>\n",
       "      <td>0.999275</td>\n",
       "      <td>0.993030</td>\n",
       "      <td>1.000167</td>\n",
       "      <td>1.001925</td>\n",
       "      <td>0.999070</td>\n",
       "    </tr>\n",
       "    <tr>\n",
       "      <th>2</th>\n",
       "      <td>1.006186</td>\n",
       "      <td>1.015801</td>\n",
       "      <td>1.010139</td>\n",
       "      <td>0.989895</td>\n",
       "      <td>0.993967</td>\n",
       "      <td>0.997616</td>\n",
       "      <td>1.000058</td>\n",
       "      <td>1.010251</td>\n",
       "      <td>1.007660</td>\n",
       "      <td>1.010512</td>\n",
       "      <td>...</td>\n",
       "      <td>1.017023</td>\n",
       "      <td>1.007407</td>\n",
       "      <td>0.997318</td>\n",
       "      <td>0.995052</td>\n",
       "      <td>0.993937</td>\n",
       "      <td>0.991361</td>\n",
       "      <td>0.985483</td>\n",
       "      <td>0.986113</td>\n",
       "      <td>1.004858</td>\n",
       "      <td>1.001176</td>\n",
       "    </tr>\n",
       "    <tr>\n",
       "      <th>3</th>\n",
       "      <td>0.999943</td>\n",
       "      <td>1.016277</td>\n",
       "      <td>0.999644</td>\n",
       "      <td>0.984808</td>\n",
       "      <td>0.986503</td>\n",
       "      <td>1.016440</td>\n",
       "      <td>1.002288</td>\n",
       "      <td>1.018336</td>\n",
       "      <td>1.008003</td>\n",
       "      <td>1.018223</td>\n",
       "      <td>...</td>\n",
       "      <td>1.011180</td>\n",
       "      <td>0.988952</td>\n",
       "      <td>0.996601</td>\n",
       "      <td>0.985790</td>\n",
       "      <td>0.989041</td>\n",
       "      <td>0.978098</td>\n",
       "      <td>0.987943</td>\n",
       "      <td>0.966723</td>\n",
       "      <td>1.016584</td>\n",
       "      <td>1.007129</td>\n",
       "    </tr>\n",
       "    <tr>\n",
       "      <th>4</th>\n",
       "      <td>1.000107</td>\n",
       "      <td>1.016739</td>\n",
       "      <td>1.004090</td>\n",
       "      <td>0.978468</td>\n",
       "      <td>0.986447</td>\n",
       "      <td>1.019794</td>\n",
       "      <td>1.016758</td>\n",
       "      <td>1.013449</td>\n",
       "      <td>1.009068</td>\n",
       "      <td>1.014112</td>\n",
       "      <td>...</td>\n",
       "      <td>1.013619</td>\n",
       "      <td>0.987817</td>\n",
       "      <td>0.984173</td>\n",
       "      <td>0.980606</td>\n",
       "      <td>0.985723</td>\n",
       "      <td>0.984447</td>\n",
       "      <td>1.001453</td>\n",
       "      <td>0.968759</td>\n",
       "      <td>1.013299</td>\n",
       "      <td>1.004237</td>\n",
       "    </tr>\n",
       "    <tr>\n",
       "      <th>...</th>\n",
       "      <td>...</td>\n",
       "      <td>...</td>\n",
       "      <td>...</td>\n",
       "      <td>...</td>\n",
       "      <td>...</td>\n",
       "      <td>...</td>\n",
       "      <td>...</td>\n",
       "      <td>...</td>\n",
       "      <td>...</td>\n",
       "      <td>...</td>\n",
       "      <td>...</td>\n",
       "      <td>...</td>\n",
       "      <td>...</td>\n",
       "      <td>...</td>\n",
       "      <td>...</td>\n",
       "      <td>...</td>\n",
       "      <td>...</td>\n",
       "      <td>...</td>\n",
       "      <td>...</td>\n",
       "      <td>...</td>\n",
       "      <td>...</td>\n",
       "    </tr>\n",
       "    <tr>\n",
       "      <th>7556</th>\n",
       "      <td>132.387048</td>\n",
       "      <td>56.785498</td>\n",
       "      <td>20.116117</td>\n",
       "      <td>44.861084</td>\n",
       "      <td>54.941481</td>\n",
       "      <td>79.783784</td>\n",
       "      <td>44.127229</td>\n",
       "      <td>34.672181</td>\n",
       "      <td>81.176502</td>\n",
       "      <td>91.690599</td>\n",
       "      <td>...</td>\n",
       "      <td>27.046145</td>\n",
       "      <td>120.652767</td>\n",
       "      <td>24.926227</td>\n",
       "      <td>128.537969</td>\n",
       "      <td>34.557978</td>\n",
       "      <td>56.207096</td>\n",
       "      <td>65.348207</td>\n",
       "      <td>29.367316</td>\n",
       "      <td>76.457539</td>\n",
       "      <td>41.093081</td>\n",
       "    </tr>\n",
       "    <tr>\n",
       "      <th>7557</th>\n",
       "      <td>133.377835</td>\n",
       "      <td>56.205780</td>\n",
       "      <td>20.147389</td>\n",
       "      <td>44.735916</td>\n",
       "      <td>55.034314</td>\n",
       "      <td>79.941883</td>\n",
       "      <td>44.393960</td>\n",
       "      <td>34.958522</td>\n",
       "      <td>80.620432</td>\n",
       "      <td>91.460416</td>\n",
       "      <td>...</td>\n",
       "      <td>27.130062</td>\n",
       "      <td>121.667823</td>\n",
       "      <td>24.933596</td>\n",
       "      <td>128.356446</td>\n",
       "      <td>34.559962</td>\n",
       "      <td>56.192297</td>\n",
       "      <td>65.382834</td>\n",
       "      <td>29.406304</td>\n",
       "      <td>76.432444</td>\n",
       "      <td>41.638603</td>\n",
       "    </tr>\n",
       "    <tr>\n",
       "      <th>7558</th>\n",
       "      <td>134.087253</td>\n",
       "      <td>55.896793</td>\n",
       "      <td>20.208072</td>\n",
       "      <td>45.109800</td>\n",
       "      <td>55.289532</td>\n",
       "      <td>79.826955</td>\n",
       "      <td>44.256726</td>\n",
       "      <td>35.050506</td>\n",
       "      <td>80.492310</td>\n",
       "      <td>92.021779</td>\n",
       "      <td>...</td>\n",
       "      <td>27.275109</td>\n",
       "      <td>120.682644</td>\n",
       "      <td>24.870706</td>\n",
       "      <td>129.389330</td>\n",
       "      <td>34.922806</td>\n",
       "      <td>55.890237</td>\n",
       "      <td>65.583603</td>\n",
       "      <td>29.678636</td>\n",
       "      <td>76.626014</td>\n",
       "      <td>41.522331</td>\n",
       "    </tr>\n",
       "    <tr>\n",
       "      <th>7559</th>\n",
       "      <td>135.049080</td>\n",
       "      <td>56.282135</td>\n",
       "      <td>20.123149</td>\n",
       "      <td>45.150106</td>\n",
       "      <td>55.390431</td>\n",
       "      <td>79.715809</td>\n",
       "      <td>43.758588</td>\n",
       "      <td>35.102347</td>\n",
       "      <td>80.921428</td>\n",
       "      <td>92.321536</td>\n",
       "      <td>...</td>\n",
       "      <td>26.956689</td>\n",
       "      <td>121.649976</td>\n",
       "      <td>24.742702</td>\n",
       "      <td>128.609159</td>\n",
       "      <td>35.335041</td>\n",
       "      <td>55.916956</td>\n",
       "      <td>65.098745</td>\n",
       "      <td>29.748609</td>\n",
       "      <td>76.705250</td>\n",
       "      <td>41.831523</td>\n",
       "    </tr>\n",
       "    <tr>\n",
       "      <th>7560</th>\n",
       "      <td>135.075157</td>\n",
       "      <td>56.727664</td>\n",
       "      <td>20.194452</td>\n",
       "      <td>44.584704</td>\n",
       "      <td>55.352216</td>\n",
       "      <td>79.882353</td>\n",
       "      <td>43.649478</td>\n",
       "      <td>34.952350</td>\n",
       "      <td>80.384917</td>\n",
       "      <td>92.118376</td>\n",
       "      <td>...</td>\n",
       "      <td>27.411015</td>\n",
       "      <td>121.596062</td>\n",
       "      <td>24.824367</td>\n",
       "      <td>128.175271</td>\n",
       "      <td>35.370938</td>\n",
       "      <td>55.428381</td>\n",
       "      <td>64.667649</td>\n",
       "      <td>29.393414</td>\n",
       "      <td>76.784827</td>\n",
       "      <td>41.821856</td>\n",
       "    </tr>\n",
       "  </tbody>\n",
       "</table>\n",
       "<p>7561 rows × 500 columns</p>\n",
       "</div>"
      ],
      "text/plain": [
       "             0          1          2          3          4          5    \\\n",
       "0       1.000000   1.000000   1.000000   1.000000   1.000000   1.000000   \n",
       "1       1.003009   1.003227   1.013002   0.990709   0.992393   1.000092   \n",
       "2       1.006186   1.015801   1.010139   0.989895   0.993967   0.997616   \n",
       "3       0.999943   1.016277   0.999644   0.984808   0.986503   1.016440   \n",
       "4       1.000107   1.016739   1.004090   0.978468   0.986447   1.019794   \n",
       "...          ...        ...        ...        ...        ...        ...   \n",
       "7556  132.387048  56.785498  20.116117  44.861084  54.941481  79.783784   \n",
       "7557  133.377835  56.205780  20.147389  44.735916  55.034314  79.941883   \n",
       "7558  134.087253  55.896793  20.208072  45.109800  55.289532  79.826955   \n",
       "7559  135.049080  56.282135  20.123149  45.150106  55.390431  79.715809   \n",
       "7560  135.075157  56.727664  20.194452  44.584704  55.352216  79.882353   \n",
       "\n",
       "            6          7          8          9    ...        490         491  \\\n",
       "0      1.000000   1.000000   1.000000   1.000000  ...   1.000000    1.000000   \n",
       "1      0.997554   1.001995   0.998573   1.014702  ...   1.012248    1.002707   \n",
       "2      1.000058   1.010251   1.007660   1.010512  ...   1.017023    1.007407   \n",
       "3      1.002288   1.018336   1.008003   1.018223  ...   1.011180    0.988952   \n",
       "4      1.016758   1.013449   1.009068   1.014112  ...   1.013619    0.987817   \n",
       "...         ...        ...        ...        ...  ...        ...         ...   \n",
       "7556  44.127229  34.672181  81.176502  91.690599  ...  27.046145  120.652767   \n",
       "7557  44.393960  34.958522  80.620432  91.460416  ...  27.130062  121.667823   \n",
       "7558  44.256726  35.050506  80.492310  92.021779  ...  27.275109  120.682644   \n",
       "7559  43.758588  35.102347  80.921428  92.321536  ...  26.956689  121.649976   \n",
       "7560  43.649478  34.952350  80.384917  92.118376  ...  27.411015  121.596062   \n",
       "\n",
       "            492         493        494        495        496        497  \\\n",
       "0      1.000000    1.000000   1.000000   1.000000   1.000000   1.000000   \n",
       "1      1.006317    1.002487   1.002985   0.999275   0.993030   1.000167   \n",
       "2      0.997318    0.995052   0.993937   0.991361   0.985483   0.986113   \n",
       "3      0.996601    0.985790   0.989041   0.978098   0.987943   0.966723   \n",
       "4      0.984173    0.980606   0.985723   0.984447   1.001453   0.968759   \n",
       "...         ...         ...        ...        ...        ...        ...   \n",
       "7556  24.926227  128.537969  34.557978  56.207096  65.348207  29.367316   \n",
       "7557  24.933596  128.356446  34.559962  56.192297  65.382834  29.406304   \n",
       "7558  24.870706  129.389330  34.922806  55.890237  65.583603  29.678636   \n",
       "7559  24.742702  128.609159  35.335041  55.916956  65.098745  29.748609   \n",
       "7560  24.824367  128.175271  35.370938  55.428381  64.667649  29.393414   \n",
       "\n",
       "            498        499  \n",
       "0      1.000000   1.000000  \n",
       "1      1.001925   0.999070  \n",
       "2      1.004858   1.001176  \n",
       "3      1.016584   1.007129  \n",
       "4      1.013299   1.004237  \n",
       "...         ...        ...  \n",
       "7556  76.457539  41.093081  \n",
       "7557  76.432444  41.638603  \n",
       "7558  76.626014  41.522331  \n",
       "7559  76.705250  41.831523  \n",
       "7560  76.784827  41.821856  \n",
       "\n",
       "[7561 rows x 500 columns]"
      ]
     },
     "execution_count": 30,
     "metadata": {},
     "output_type": "execute_result"
    }
   ],
   "source": [
    "# Running a Monte Carlo simulation to forecast 30 years cumulative returns\n",
    "MC_30year.calc_cumulative_return()"
   ]
  },
  {
   "cell_type": "code",
   "execution_count": 31,
   "metadata": {},
   "outputs": [
    {
     "data": {
      "image/png": "[encoded data removed]",
      "text/plain": [
       "<Figure size 432x288 with 1 Axes>"
      ]
     },
     "metadata": {
      "needs_background": "light"
     },
     "output_type": "display_data"
    }
   ],
   "source": [
    "# Plot simulation outcomes\n",
    "line_plot = MC_30year.plot_simulation()\n",
    "line_plot.get_figure().savefig(\"MC_30year_sim_plot.png\", bbox_inches=\"tight\")"
   ]
  },
  {
   "cell_type": "code",
   "execution_count": 32,
   "metadata": {},
   "outputs": [
    {
     "ename": "NameError",
     "evalue": "name 'dist_plot' is not defined",
     "output_type": "error",
     "traceback": [
      "\u001b[1;31m---------------------------------------------------------------------------\u001b[0m",
      "\u001b[1;31mNameError\u001b[0m                                 Traceback (most recent call last)",
      "\u001b[1;32m<ipython-input-32-7582eb574023>\u001b[0m in \u001b[0;36m<module>\u001b[1;34m\u001b[0m\n\u001b[0;32m      1\u001b[0m \u001b[1;31m# Plot probability distribution and confidence intervals\u001b[0m\u001b[1;33m\u001b[0m\u001b[1;33m\u001b[0m\u001b[1;33m\u001b[0m\u001b[0m\n\u001b[0;32m      2\u001b[0m \u001b[0mprobability_distribution\u001b[0m \u001b[1;33m=\u001b[0m \u001b[0mMC_30year\u001b[0m\u001b[1;33m.\u001b[0m\u001b[0mplot_distribution\u001b[0m\u001b[1;33m(\u001b[0m\u001b[1;33m)\u001b[0m\u001b[1;33m\u001b[0m\u001b[1;33m\u001b[0m\u001b[0m\n\u001b[1;32m----> 3\u001b[1;33m \u001b[0mdist_plot\u001b[0m\u001b[1;33m.\u001b[0m\u001b[0mget_figure\u001b[0m\u001b[1;33m(\u001b[0m\u001b[1;33m)\u001b[0m\u001b[1;33m.\u001b[0m\u001b[0msavefig\u001b[0m\u001b[1;33m(\u001b[0m\u001b[1;34m'MC_30year_dist_plot.png'\u001b[0m\u001b[1;33m,\u001b[0m\u001b[0mbbox_inches\u001b[0m\u001b[1;33m=\u001b[0m\u001b[1;34m'tight'\u001b[0m\u001b[1;33m)\u001b[0m\u001b[1;33m\u001b[0m\u001b[1;33m\u001b[0m\u001b[0m\n\u001b[0m",
      "\u001b[1;31mNameError\u001b[0m: name 'dist_plot' is not defined"
     ]
    },
    {
     "data": {
      "image/png": "[encoded data removed]",
      "text/plain": [
       "<Figure size 432x288 with 1 Axes>"
      ]
     },
     "metadata": {
      "needs_background": "light"
     },
     "output_type": "display_data"
    }
   ],
   "source": [
    "# Plot probability distribution and confidence intervals\n",
    "probability_distribution = MC_30year.plot_distribution()\n",
    "dist_plot.get_figure().savefig('MC_30year_dist_plot.png',bbox_inches='tight')"
   ]
  },
  {
   "cell_type": "markdown",
   "metadata": {},
   "source": [
    "### Retirement Analysis"
   ]
  },
  {
   "cell_type": "code",
   "execution_count": null,
   "metadata": {},
   "outputs": [],
   "source": [
    "#### Retirement Analysis\n",
    "\n",
    "#1. Fetch the summary statistics from the Monte Carlo simulation results.\n",
    "\n",
    "#1. Given an initial investment of `$20,000`, calculate the expected portfolio return in dollars at the `95%` lower and upper confidence intervals.\n",
    "\n",
    "#2. Calculate the expected portfolio return at the `95%` lower and upper confidence intervals based on a `50%` increase in the initial investment."
   ]
  },
  {
   "cell_type": "code",
   "execution_count": null,
   "metadata": {},
   "outputs": [],
   "source": [
    "# Fetch summary statistics from the Monte Carlo simulation results\n",
    "summary_statistics = MC_30year.summarize_cumulative_return()\n",
    "\n",
    "# Print summary statistics\n",
    "print(summary_statistics)"
   ]
  },
  {
   "cell_type": "markdown",
   "metadata": {},
   "source": [
    "### Calculate the expected portfolio return at the 95% lower and upper confidence intervals based on a `$20,000` initial investment."
   ]
  },
  {
   "cell_type": "code",
   "execution_count": null,
   "metadata": {},
   "outputs": [],
   "source": [
    "# Set initial investment\n",
    "initial_investment = 20000\n",
    "\n",
    "# Use the lower and upper `95%` confidence intervals to calculate the range of the possible outcomes of our $20,000\n",
    "ci_lower = round(summary_statistics[8]*initial_investment,2)\n",
    "ci_upper = round(summary_statistics[9]*initial_investment,2)\n",
    "\n",
    "# Print results\n",
    "print(f\"There is a 95% chance that an initial investment of ${initial_investment} in the portfolio\"\n",
    "      f\" over the next 30 years will end within in the range of\"\n",
    "      f\" ${ci_lower} and ${ci_upper}\")"
   ]
  },
  {
   "cell_type": "markdown",
   "metadata": {},
   "source": [
    "### Calculate the expected portfolio return at the `95%` lower and upper confidence intervals based on a `50%` increase in the initial investment."
   ]
  },
  {
   "cell_type": "code",
   "execution_count": null,
   "metadata": {},
   "outputs": [],
   "source": [
    "# Set initial investment\n",
    "initial_investment = 20000 * 1.5\n",
    "\n",
    "# Use the lower and upper `95%` confidence intervals to calculate the range of the possible outcomes of our $30,000\n",
    "# YOUR CODE HERE!\n",
    "\n",
    "# Print results\n",
    "print(f\"There is a 95% chance that an initial investment of ${initial_investment} in the portfolio\"\n",
    "      f\" over the next 30 years will end within in the range of\"\n",
    "      f\" ${ci_lower} and ${ci_upper}\")"
   ]
  },
  {
   "cell_type": "markdown",
   "metadata": {},
   "source": [
    "## Optional Challenge - Early Retirement\n",
    "\n",
    "\n",
    "### Five Years Retirement Option"
   ]
  },
  {
   "cell_type": "code",
   "execution_count": null,
   "metadata": {},
   "outputs": [],
   "source": [
    "### Optional Challenge - Early Retirement\n",
    "\n",
    "#The CTO of the Credit Union was really impressed with your work on this planner, but commented that `30` years seems like such a long time to wait to retire! The CTO starts wondering if the retirement plan could be adjusted to account for an earlier than normal retirement.\n",
    "\n",
    "#Try adjusting the portfolio to either include more risk (a higher stock than bond ratio) or to have a larger initial investment and rerun the retirement analysis to see what it would take to retire in `5` or `10` years instead of `30`!\n"
   ]
  },
  {
   "cell_type": "code",
   "execution_count": null,
   "metadata": {},
   "outputs": [],
   "source": [
    "# Configuring a Monte Carlo simulation to forecast 5 years cumulative returns\n",
    "MC_5year = MCSimulation(\n",
    "    portfolio_data = df_stock_data,\n",
    "    weights = [.40,.60],\n",
    "    num_simulation = 500,\n",
    "    num_trading_days = 252*5\n",
    ")"
   ]
  },
  {
   "cell_type": "code",
   "execution_count": null,
   "metadata": {},
   "outputs": [],
   "source": [
    "# Running a Monte Carlo simulation to forecast 5 years cumulative returns\n",
    "MC_5year.calc_cumulative_return()"
   ]
  },
  {
   "cell_type": "code",
   "execution_count": null,
   "metadata": {},
   "outputs": [],
   "source": [
    "# Plot simulation outcomes\n",
    "line_plot = MC_5year.plot_simulation()\n",
    "line_plot.get_figure().savefig(\"MC_5year_sim_plot.png\", bbox_inches=\"tight\")"
   ]
  },
  {
   "cell_type": "code",
   "execution_count": null,
   "metadata": {},
   "outputs": [],
   "source": [
    "# Plot probability distribution and confidence intervals\n",
    "dist_plot = MC_5year.plot_distribution()\n",
    "dist_plot.get_figure().savefig('MC_5year_dist_plot.png',bbox_inches='tight')"
   ]
  },
  {
   "cell_type": "code",
   "execution_count": null,
   "metadata": {},
   "outputs": [],
   "source": [
    "# Fetch summary statistics from the Monte Carlo simulation results\n",
    "summary_statistics_5yr = MC_30year.summarize_cumulative_return()\n",
    "\n",
    "# Print summary statistics\n",
    "print(summary_statistics_5yr)"
   ]
  },
  {
   "cell_type": "code",
   "execution_count": null,
   "metadata": {},
   "outputs": [],
   "source": [
    "# Set initial investment\n",
    "initial_investment = 60000\n",
    "\n",
    "# Use the lower and upper `95%` confidence intervals to calculate the range of the possible outcomes of our $60,000\n",
    "ci_lower_five = round(summary_statistics_5yr[8]*initial_investment,2)\n",
    "ci_upper_five = round(summary_statistics_5yr[9]*initial_investment,2)\n",
    "\n",
    "# Print results\n",
    "print(f\"There is a 95% chance that an initial investment of ${initial_investment} in the portfolio\"\n",
    "      f\" over the next 5 years will end within in the range of\"\n",
    "      f\" ${ci_lower_five} and ${ci_upper_five}\")"
   ]
  },
  {
   "cell_type": "markdown",
   "metadata": {},
   "source": [
    "### Ten Years Retirement Option"
   ]
  },
  {
   "cell_type": "code",
   "execution_count": null,
   "metadata": {},
   "outputs": [],
   "source": [
    "# Configuring a Monte Carlo simulation to forecast 10 years cumulative returns\n",
    "MC_10year = MCSimulation(\n",
    "    portfolio_data = df_stock_data,\n",
    "    weights = [.40,.60],\n",
    "    num_simulation = 500,\n",
    "    num_trading_days = 252*10\n",
    ")"
   ]
  },
  {
   "cell_type": "code",
   "execution_count": null,
   "metadata": {},
   "outputs": [],
   "source": [
    "# Running a Monte Carlo simulation to forecast 10 years cumulative returns\n",
    "MC_10year.calc_cumulative_return()"
   ]
  },
  {
   "cell_type": "code",
   "execution_count": null,
   "metadata": {},
   "outputs": [],
   "source": [
    "# Plot simulation outcomes\n",
    "line_plot = MC_10year.plot_simulation()\n",
    "line_plot.get_figure().savefig(\"MC_10year_sim_plot.png\", bbox_inches=\"tight\")"
   ]
  },
  {
   "cell_type": "code",
   "execution_count": null,
   "metadata": {},
   "outputs": [],
   "source": [
    "# Plot probability distribution and confidence intervals\n",
    "dist_plot = MC_10year.plot_distribution()\n",
    "dist_plot.get_figure().savefig('MC_10year_dist_plot.png',bbox_inches='tight')"
   ]
  },
  {
   "cell_type": "code",
   "execution_count": null,
   "metadata": {},
   "outputs": [],
   "source": [
    "# Fetch summary statistics from the Monte Carlo simulation results\n",
    "summary_statistics_10yr = MC_10year.summarize_cumulative_return()\n",
    "\n",
    "# Print summary statistics\n",
    "print(summary_statistics_105yr)"
   ]
  },
  {
   "cell_type": "code",
   "execution_count": null,
   "metadata": {},
   "outputs": [],
   "source": [
    "# Set initial investment\n",
    "initial_investment = 60000\n",
    "\n",
    "# Use the lower and upper `95%` confidence intervals to calculate the range of the possible outcomes of our $60,000\n",
    "ci_lower_ten = round(tb3[8]*initial_investment,2)\n",
    "ci_upper_ten = round(tb3[9]*initial_investment,2)\n",
    "\n",
    "# Print results\n",
    "print(f\"There is a 95% chance that an initial investment of ${initial_investment} in the portfolio\"\n",
    "      f\" over the next 10 years will end within in the range of\"\n",
    "      f\" ${ci_lower_ten} and ${ci_upper_ten}\")"
   ]
  },
  {
   "cell_type": "code",
   "execution_count": null,
   "metadata": {},
   "outputs": [],
   "source": []
  },
  {
   "cell_type": "code",
   "execution_count": null,
   "metadata": {},
   "outputs": [],
   "source": []
  }
 ],
 "metadata": {
  "kernelspec": {
   "display_name": "Python 3",
   "language": "python",
   "name": "python3"
  },
  "language_info": {
   "codemirror_mode": {
    "name": "ipython",
    "version": 3
   },
   "file_extension": ".py",
   "mimetype": "text/x-python",
   "name": "python",
   "nbconvert_exporter": "python",
   "pygments_lexer": "ipython3",
   "version": "3.8.5"
  }
 },
 "nbformat": 4,
 "nbformat_minor": 4
}
