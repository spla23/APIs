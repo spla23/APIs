{
 "cells": [
  {
   "cell_type": "code",
   "execution_count": 4,
   "metadata": {},
   "outputs": [
    {
     "name": "stdout",
     "output_type": "stream",
     "text": [
      "Account({   'account_blocked': False,\n",
      "    'account_number': 'PA3T0OBWFY9P',\n",
      "    'buying_power': '200000',\n",
      "    'cash': '100000',\n",
      "    'created_at': '2021-01-21T02:18:09.407213Z',\n",
      "    'currency': 'USD',\n",
      "    'daytrade_count': 0,\n",
      "    'daytrading_buying_power': '0',\n",
      "    'equity': '100000',\n",
      "    'id': '5e479ff4-942c-4a4d-b9fe-635b63156591',\n",
      "    'initial_margin': '0',\n",
      "    'last_equity': '100000',\n",
      "    'last_maintenance_margin': '0',\n",
      "    'long_market_value': '0',\n",
      "    'maintenance_margin': '0',\n",
      "    'multiplier': '4',\n",
      "    'pattern_day_trader': False,\n",
      "    'portfolio_value': '100000',\n",
      "    'regt_buying_power': '200000',\n",
      "    'short_market_value': '0',\n",
      "    'shorting_enabled': True,\n",
      "    'sma': '0',\n",
      "    'status': 'ACTIVE',\n",
      "    'trade_suspended_by_user': False,\n",
      "    'trading_blocked': False,\n",
      "    'transfers_blocked': False})\n"
     ]
    }
   ],
   "source": [
    "import alpaca_trade_api as tradeapi\n",
    "\n",
    "# authentication and connection details\n",
    "api_key = 'PK3SWEUL4DIYM0SG8DQ3'\n",
    "api_secret = 'BQgCzY1szuHc9ctPaWKABsA42DkbeScO0JyQgpM8'\n",
    "base_url = 'https://paper-api.alpaca.markets'\n",
    "\n",
    "# instantiate REST API\n",
    "api = tradeapi.REST(api_key, api_secret, base_url, api_version='v2')\n",
    "\n",
    "# obtain account information\n",
    "account = api.get_account()\n",
    "print(account)"
   ]
  },
  {
   "cell_type": "code",
   "execution_count": null,
   "metadata": {},
   "outputs": [],
   "source": []
  },
  {
   "cell_type": "code",
   "execution_count": null,
   "metadata": {},
   "outputs": [],
   "source": []
  }
 ],
 "metadata": {
  "kernelspec": {
   "display_name": "Python 3",
   "language": "python",
   "name": "python3"
  },
  "language_info": {
   "codemirror_mode": {
    "name": "ipython",
    "version": 3
   },
   "file_extension": ".py",
   "mimetype": "text/x-python",
   "name": "python",
   "nbconvert_exporter": "python",
   "pygments_lexer": "ipython3",
   "version": "3.8.5"
  }
 },
 "nbformat": 4,
 "nbformat_minor": 4
}
